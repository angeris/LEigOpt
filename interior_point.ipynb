{
 "cells": [
  {
   "cell_type": "code",
   "execution_count": 45,
   "metadata": {},
   "outputs": [],
   "source": [
    "b = 10\n",
    "num_blocks = 200\n",
    "n = num_blocks*(b-1) + 1\n",
    "\n",
    "A = spzeros(n, n)\n",
    "\n",
    "for i = 1:num_blocks\n",
    "    top_left = (i-1)*(b-1) + 1\n",
    "    A[top_left:top_left+b-1, top_left:top_left+b-1] .= randn(b, b)\n",
    "end\n",
    "\n",
    "A = (A + A')/2;\n",
    "\n",
    "B = speye(n, n);"
   ]
  },
  {
   "cell_type": "code",
   "execution_count": 47,
   "metadata": {},
   "outputs": [
    {
     "name": "stdout",
     "output_type": "stream",
     "text": [
      "  0.221355 seconds (4.60 k allocations: 2.990 MiB)\n"
     ]
    },
    {
     "data": {
      "text/plain": [
       "([5.92211, 5.91934, 5.7306, 5.48287, 5.4325, 5.24373, 5.23715, 5.15976, 5.15806, 5.11307  …  4.3438, 4.31362, 4.30853, 4.30031, 4.28432, 4.25878, 4.25747, 4.25498, 4.24748, 4.23991], [-3.87059e-18 8.15626e-17 … -3.34437e-15 -8.52066e-16; -2.33082e-17 -3.70661e-17 … 3.47268e-15 8.60402e-16; … ; 3.8991e-18 2.88495e-17 … -4.04913e-16 5.35424e-12; -6.86817e-18 -4.24067e-17 … 5.45989e-16 -9.81983e-12], 64, 13, 642, [0.0158025, -0.025087, -0.0190605, -0.0939225, -0.0185956, 0.0445341, -0.0301368, -0.0191006, 0.00113504, -0.0118102  …  0.163365, 0.0544653, -0.0105014, 0.077334, 0.0470517, -0.111973, -0.0908741, -0.0441456, -0.0789013, 0.0786187])"
      ]
     },
     "execution_count": 47,
     "metadata": {},
     "output_type": "execute_result"
    }
   ],
   "source": [
    "@time eigs(A, nev=64, which=:LR)"
   ]
  },
  {
   "cell_type": "code",
   "execution_count": 44,
   "metadata": {},
   "outputs": [
    {
     "name": "stdout",
     "output_type": "stream",
     "text": [
      "curr t : -90.90057509095143\n",
      "curr t : -80.08958663109283\n",
      "curr t : -67.3093215656368\n",
      "curr t : -52.342916356911175\n",
      "curr t : -35.18004444669458\n",
      "curr t : -16.69306104504443\n",
      "curr t : -9.990721418128015\n",
      "curr t : -9.656156349714548\n",
      "curr t : -9.670938883770887\n",
      "curr t : -7.237399846533563\n",
      "curr t : -6.5472639506861015\n",
      "curr t : -6.345936431265222\n",
      "curr t : -6.286272448203201\n",
      "curr t : -6.277412629059695\n",
      "curr t : -6.272158267224417\n",
      "curr t : -6.2714364399807145\n",
      "curr t : -6.271075990936066\n",
      "curr t : -6.271073798548762\n",
      "curr t : -6.271074245482296\n",
      "curr t : -6.270978576616144\n",
      "curr t : -6.270959408656337\n",
      "curr t : -6.270963127597832\n",
      "curr t : -6.270962290573095\n",
      "curr t : -6.270962311810957\n",
      " 47.376505 seconds (3.26 M allocations: 101.795 GiB, 6.66% gc time)\n"
     ]
    }
   ],
   "source": [
    "# grad(chol_L, B) = -1 - trace(chol_L \\ B)\n",
    "@time begin\n",
    "\n",
    "function grad(chol_L::SparseArrays.CHOLMOD.Factor{Float64}, B::SparseMatrixCSC{Float64, Int64}, nu::Float64)\n",
    "    tr = 0\n",
    "    e_i = zeros(size(B, 2))\n",
    "    e_i[1] = 1\n",
    "    for i = 1:size(B, 2)\n",
    "        if i > 1\n",
    "            e_i[i-1] = 0\n",
    "            e_i[i] = 1\n",
    "        end\n",
    "        tr += (chol_L \\ e_i)[i]\n",
    "    end\n",
    "    return -1 + nu*tr\n",
    "end\n",
    "    \n",
    "eval_f(chol_L::SparseArrays.CHOLMOD.Factor, t::Float64, nu::Float64) = -t - nu*logdet(chol_L)\n",
    "\n",
    "curr_t = -100.\n",
    "step_size = 10\n",
    "nu = 1e-3\n",
    "\n",
    "L = A - curr_t*B\n",
    "init_chol_L = cholfact(L)\n",
    "chol_L = copy(init_chol_L)\n",
    "\n",
    "converged = false\n",
    "    \n",
    "prev_val = Inf\n",
    "    \n",
    "for i = 1:100\n",
    "    curr_grad = grad(chol_L, B, nu)\n",
    "    is_pos_def = false\n",
    "        \n",
    "    while !is_pos_def\n",
    "        tent_t = curr_t - step_size*curr_grad\n",
    "        L .= A - tent_t*B\n",
    "\n",
    "        try\n",
    "            cholfact!(chol_L, L)\n",
    "            \n",
    "            curr_eval = eval_f(chol_L, tent_t, nu)\n",
    "            \n",
    "            if curr_eval > prev_val\n",
    "                step_size *= .5\n",
    "                continue\n",
    "            end\n",
    "            \n",
    "            prev_val = curr_eval\n",
    "            println(\"curr t : $tent_t\")\n",
    "            is_pos_def = true\n",
    "                \n",
    "            if abs(curr_grad)^2 < 1e-4\n",
    "                if nu < 1e-4\n",
    "                    converged = true\n",
    "                    break\n",
    "                end\n",
    "                \n",
    "                nu *= .1\n",
    "                prev_val = Inf\n",
    "                break\n",
    "            end\n",
    "                \n",
    "            curr_t = tent_t\n",
    "            step_size *= 1.2\n",
    "            break\n",
    "\n",
    "        catch y\n",
    "            if isa(y, Base.LinAlg.PosDefException)\n",
    "                chol_L = copy(init_chol_L)\n",
    "                step_size *= .5\n",
    "            else\n",
    "                error(\"wtf?\")\n",
    "            end\n",
    "        end\n",
    "    end\n",
    "    \n",
    "    if converged\n",
    "        break\n",
    "    end\n",
    "end\n",
    "    \n",
    "end"
   ]
  },
  {
   "cell_type": "code",
   "execution_count": 18,
   "metadata": {},
   "outputs": [
    {
     "data": {
      "text/plain": [
       "([-6.17813], [-8.86227e-19; 1.70165e-18; … ; -7.09836e-17; 1.31684e-18], 1, 9, 100, [-0.00832226, -0.00582737, -0.0372743, 0.0239053, 0.0278231, 0.00543517, 0.0221169, -0.00404483, -0.0160135, -0.00235164  …  0.047227, -0.0434156, -0.00583877, 0.0929452, -0.054085, 0.0507873, -0.0536809, -0.0842467, -0.109428, 0.07352])"
      ]
     },
     "execution_count": 18,
     "metadata": {},
     "output_type": "execute_result"
    }
   ],
   "source": [
    "eigs(A,nev=1,which=:SR)"
   ]
  },
  {
   "cell_type": "code",
   "execution_count": 14,
   "metadata": {},
   "outputs": [
    {
     "data": {
      "text/plain": [
       "2940308"
      ]
     },
     "execution_count": 14,
     "metadata": {},
     "output_type": "execute_result"
    }
   ],
   "source": [
    "nnz(chol_L\\B)"
   ]
  },
  {
   "cell_type": "code",
   "execution_count": 74,
   "metadata": {},
   "outputs": [
    {
     "name": "stdout",
     "output_type": "stream",
     "text": [
      "Finished optimizing iteration at nu : 1 with t 1.0484698606752908e-9\n",
      "Finished optimizing iteration at nu : 0.1 with t -0.669741490289786\n",
      "Finished optimizing iteration at nu : 0.010000000000000002 with t -0.9439482969657267\n",
      "Finished optimizing iteration at nu : 0.0010000000000000002 with t -0.9920922447141156\n",
      "Finished optimizing iteration at nu : 0.00010000000000000003 with t -0.9989789659628019\n",
      "Finished optimizing iteration at nu : 1.0000000000000004e-5 with t -0.9998748707422735\n"
     ]
    }
   ],
   "source": [
    "func(x, t, nu) = -t - nu*log(x - t)\n",
    "grad(x, t, nu) = -1 + nu/(x - t)\n",
    "\n",
    "curr_t = -100\n",
    "step_size = 1\n",
    "\n",
    "x_set = 1\n",
    "nu = 1\n",
    "epsilon = 1e-6\n",
    "prev_val = Inf\n",
    "\n",
    "for i=1:100\n",
    "    curr_grad = grad(x_set, curr_t, nu)\n",
    "    tent_t = curr_t - step_size*curr_grad\n",
    "    \n",
    "    if tent_t > x_set\n",
    "        step_size *= .5\n",
    "        continue\n",
    "    end\n",
    "    \n",
    "    tent_val = func(x_set, tent_t, nu)\n",
    "    \n",
    "    if tent_val > prev_val\n",
    "        step_size *= .5\n",
    "        continue\n",
    "    end\n",
    "    \n",
    "    prev_val = tent_val\n",
    "    \n",
    "    if abs(curr_grad)^2 < epsilon\n",
    "        println(\"Finished optimizing iteration at nu : $nu with t $tent_val\")\n",
    "        if nu < 1e-4\n",
    "            break\n",
    "        end\n",
    "        prev_val = Inf\n",
    "        nu *= .1\n",
    "    end\n",
    "    \n",
    "    curr_t = tent_t\n",
    "    \n",
    "    step_size *= 1.2\n",
    "end"
   ]
  },
  {
   "cell_type": "code",
   "execution_count": null,
   "metadata": {},
   "outputs": [],
   "source": []
  }
 ],
 "metadata": {
  "kernelspec": {
   "display_name": "Julia 0.6.1",
   "language": "julia",
   "name": "julia-0.6"
  },
  "language_info": {
   "file_extension": ".jl",
   "mimetype": "application/julia",
   "name": "julia",
   "version": "0.6.1"
  }
 },
 "nbformat": 4,
 "nbformat_minor": 2
}

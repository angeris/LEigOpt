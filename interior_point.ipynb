{
 "cells": [
  {
   "cell_type": "code",
   "execution_count": 52,
   "metadata": {},
   "outputs": [],
   "source": [
    "b = 10\n",
    "num_blocks = 200\n",
    "n = num_blocks*(b-1) + 1\n",
    "\n",
    "A = spzeros(n, n)\n",
    "\n",
    "for i = 1:num_blocks\n",
    "    top_left = (i-1)*(b-1) + 1\n",
    "    A[top_left:top_left+b-1, top_left:top_left+b-1] .= randn(b, b)\n",
    "end\n",
    "\n",
    "A = (A + A')/2;\n",
    "\n",
    "B = speye(n, n);"
   ]
  },
  {
   "cell_type": "code",
   "execution_count": 66,
   "metadata": {},
   "outputs": [
    {
     "ename": "LoadError",
     "evalue": "\u001b[91mMethodError: no method matching nnz(::Symmetric{Float64,SparseMatrixCSC{Float64,Int64}})\u001b[0m\nClosest candidates are:\n  nnz(\u001b[91m::SparseMatrixCSC\u001b[39m) at sparse/sparsematrix.jl:53\n  nnz(\u001b[91m::SparseVector\u001b[39m) at sparse/sparsevector.jl:37\n  nnz(\u001b[91m::Base.SparseArrays.UMFPACK.UmfpackLU\u001b[39m) at sparse/umfpack.jl:380\n  ...\u001b[39m",
     "output_type": "error",
     "traceback": [
      "\u001b[91mMethodError: no method matching nnz(::Symmetric{Float64,SparseMatrixCSC{Float64,Int64}})\u001b[0m\nClosest candidates are:\n  nnz(\u001b[91m::SparseMatrixCSC\u001b[39m) at sparse/sparsematrix.jl:53\n  nnz(\u001b[91m::SparseVector\u001b[39m) at sparse/sparsevector.jl:37\n  nnz(\u001b[91m::Base.SparseArrays.UMFPACK.UmfpackLU\u001b[39m) at sparse/umfpack.jl:380\n  ...\u001b[39m",
      ""
     ]
    }
   ],
   "source": [
    "nnz(Symmetric(A))"
   ]
  },
  {
   "cell_type": "code",
   "execution_count": 83,
   "metadata": {},
   "outputs": [
    {
     "name": "stdout",
     "output_type": "stream",
     "text": [
      "  0.000071 seconds (10 allocations: 324.109 KiB)\n"
     ]
    },
    {
     "data": {
      "text/plain": [
       "1801×1801 SparseMatrixCSC{Float64,Int64} with 19801 stored entries:\n",
       "  [1   ,    1]  =  -0.0533007\n",
       "  [2   ,    1]  =  -0.289308\n",
       "  [3   ,    1]  =  -0.0217574\n",
       "  [4   ,    1]  =  0.73068\n",
       "  [5   ,    1]  =  1.79176\n",
       "  [6   ,    1]  =  0.891551\n",
       "  [7   ,    1]  =  -0.596496\n",
       "  [8   ,    1]  =  0.516255\n",
       "  [9   ,    1]  =  1.49738\n",
       "  [10  ,    1]  =  -0.731675\n",
       "  ⋮\n",
       "  [1801, 1800]  =  1.01978\n",
       "  [1792, 1801]  =  0.0628454\n",
       "  [1793, 1801]  =  -0.690835\n",
       "  [1794, 1801]  =  0.0164524\n",
       "  [1795, 1801]  =  0.130147\n",
       "  [1796, 1801]  =  -0.768762\n",
       "  [1797, 1801]  =  -0.233444\n",
       "  [1798, 1801]  =  -0.377756\n",
       "  [1799, 1801]  =  0.898424\n",
       "  [1800, 1801]  =  1.01978\n",
       "  [1801, 1801]  =  -0.0520544"
      ]
     },
     "execution_count": 83,
     "metadata": {},
     "output_type": "execute_result"
    }
   ],
   "source": [
    "@time A_copy = copy(A)"
   ]
  },
  {
   "cell_type": "code",
   "execution_count": 86,
   "metadata": {},
   "outputs": [
    {
     "data": {
      "text/plain": [
       "Base.SparseArrays.CHOLMOD.Factor{Float64}\n",
       "type:          LLt\n",
       "method: simplicial\n",
       "maxnnz:      10801\n",
       "nnz:         10801\n"
      ]
     },
     "execution_count": 86,
     "metadata": {},
     "output_type": "execute_result"
    }
   ],
   "source": [
    "Lchol = cholfact(A + 100*speye(size(A,1)))"
   ]
  },
  {
   "cell_type": "code",
   "execution_count": 74,
   "metadata": {},
   "outputs": [
    {
     "name": "stdout",
     "output_type": "stream",
     "text": [
      "  0.013117 seconds (639 allocations: 5.910 MiB, 57.78% gc time)\n"
     ]
    },
    {
     "data": {
      "text/plain": [
       "([-0.00185273], [-3.96859e-16; 2.97255e-16; … ; 5.76689e-21; 1.18549e-21], 1, 1, 20, [-0.799486, 0.652292, 0.755771, 0.54035, -0.444673, -0.254498, 0.788701, 0.290024, -0.00807781, -1.09429  …  0.317311, -0.303922, 0.763047, -3.36372, 1.63957, 0.588509, -0.606875, 1.32424, 0.326494, 0.0671169])"
      ]
     },
     "execution_count": 74,
     "metadata": {},
     "output_type": "execute_result"
    }
   ],
   "source": [
    "@time eigs(A, nev=1, which=:SM)"
   ]
  },
  {
   "cell_type": "code",
   "execution_count": 57,
   "metadata": {},
   "outputs": [
    {
     "name": "stdout",
     "output_type": "stream",
     "text": [
      "curr t : -90.18020967812741\n",
      "curr t : -78.42004221830292\n",
      "curr t : -64.35107958405894\n",
      "curr t : -47.555402829058394\n",
      "curr t : -27.606805205825275\n",
      "curr t : -15.98333885147588\n",
      "curr t : -9.380243121667235\n",
      "curr t : -5.83057124295639\n",
      "curr t : -5.734985172880681\n",
      "curr t : -5.7085878115094895\n",
      "curr t : -5.694443697684\n",
      "curr t : -5.695138745308263\n",
      "curr t : -5.694810620903282\n",
      "curr t : -5.694946042648024\n",
      "curr t : -5.694883680873104\n",
      "curr t : -5.694885226009103\n",
      "curr t : -5.693825754496518\n",
      "curr t : -5.693235178769239\n",
      "curr t : -5.69298078531797\n",
      "curr t : -5.693124378944201\n",
      "curr t : -5.693095508634895\n",
      "curr t : -5.693071221235116\n",
      "curr t : -5.693057104002219\n",
      "curr t : -5.69305439203153\n",
      "curr t : -5.693054944822666\n",
      "curr t : -5.692983304353891\n",
      "curr t : -5.692966771066924\n",
      "curr t : -5.69295510135826\n",
      "curr t : -5.692962309619153\n",
      "curr t : -5.692960220293733\n",
      "curr t : -5.692959636529371\n",
      "curr t : -5.692959753825523\n",
      "  2.694919 seconds (825.90 k allocations: 5.510 GiB, 8.59% gc time)\n"
     ]
    }
   ],
   "source": [
    "# grad(chol_L, B) = -1 - trace(chol_L \\ B)\n",
    "@time begin\n",
    "\n",
    "function grad(chol_L::SparseArrays.CHOLMOD.Factor{Float64}, B::SparseMatrixCSC{Float64, Int64}, nu::Float64)\n",
    "    tr = 0\n",
    "    e_i = zeros(size(B, 2))\n",
    "    e_i[1] = 1\n",
    "    for i = 1:size(B, 2)\n",
    "        if i > 1\n",
    "            e_i[i-1] = 0\n",
    "            e_i[i] = 1\n",
    "        end\n",
    "        tr += (chol_L \\ e_i)[i]\n",
    "    end\n",
    "    return -1 + nu*tr\n",
    "end\n",
    "    \n",
    "eval_f(chol_L::SparseArrays.CHOLMOD.Factor, t::Float64, nu::Float64) = -t - nu*logdet(chol_L)\n",
    "\n",
    "curr_t = -100.\n",
    "step_size = 10\n",
    "nu = 1e-3\n",
    "\n",
    "L = A - curr_t*B\n",
    "init_chol_L = cholfact(L)\n",
    "chol_L = copy(init_chol_L)\n",
    "\n",
    "converged = false\n",
    "    \n",
    "prev_val = Inf\n",
    "    \n",
    "for i = 1:100\n",
    "    curr_grad = grad(chol_L, B, nu)\n",
    "    is_pos_def = false\n",
    "        \n",
    "    while !is_pos_def\n",
    "        tent_t = curr_t - step_size*curr_grad\n",
    "        L .= A - tent_t*B\n",
    "\n",
    "        try\n",
    "            cholfact!(chol_L, L)\n",
    "            \n",
    "            curr_eval = eval_f(chol_L, tent_t, nu)\n",
    "            \n",
    "            if curr_eval > prev_val\n",
    "                step_size *= .5\n",
    "                continue\n",
    "            end\n",
    "            \n",
    "            prev_val = curr_eval\n",
    "            println(\"curr t : $tent_t\")\n",
    "            is_pos_def = true\n",
    "                \n",
    "            if abs(curr_grad)^2 < 1e-4\n",
    "                if nu < 1e-4\n",
    "                    converged = true\n",
    "                    break\n",
    "                end\n",
    "                \n",
    "                nu *= .1\n",
    "                prev_val = Inf\n",
    "                break\n",
    "            end\n",
    "                \n",
    "            curr_t = tent_t\n",
    "            step_size *= 1.2\n",
    "            break\n",
    "\n",
    "        catch y\n",
    "            if isa(y, Base.LinAlg.PosDefException)\n",
    "                chol_L = copy(init_chol_L)\n",
    "                step_size *= .5\n",
    "            else\n",
    "                error(\"wtf?\")\n",
    "            end\n",
    "        end\n",
    "    end\n",
    "    \n",
    "    if converged\n",
    "        break\n",
    "    end\n",
    "end\n",
    "    \n",
    "end"
   ]
  },
  {
   "cell_type": "code",
   "execution_count": 18,
   "metadata": {},
   "outputs": [
    {
     "data": {
      "text/plain": [
       "([-6.17813], [-8.86227e-19; 1.70165e-18; … ; -7.09836e-17; 1.31684e-18], 1, 9, 100, [-0.00832226, -0.00582737, -0.0372743, 0.0239053, 0.0278231, 0.00543517, 0.0221169, -0.00404483, -0.0160135, -0.00235164  …  0.047227, -0.0434156, -0.00583877, 0.0929452, -0.054085, 0.0507873, -0.0536809, -0.0842467, -0.109428, 0.07352])"
      ]
     },
     "execution_count": 18,
     "metadata": {},
     "output_type": "execute_result"
    }
   ],
   "source": [
    "eigs(A,nev=1,which=:SR)"
   ]
  },
  {
   "cell_type": "code",
   "execution_count": 14,
   "metadata": {},
   "outputs": [
    {
     "data": {
      "text/plain": [
       "2940308"
      ]
     },
     "execution_count": 14,
     "metadata": {},
     "output_type": "execute_result"
    }
   ],
   "source": [
    "nnz(chol_L\\B)"
   ]
  },
  {
   "cell_type": "code",
   "execution_count": 74,
   "metadata": {},
   "outputs": [
    {
     "name": "stdout",
     "output_type": "stream",
     "text": [
      "Finished optimizing iteration at nu : 1 with t 1.0484698606752908e-9\n",
      "Finished optimizing iteration at nu : 0.1 with t -0.669741490289786\n",
      "Finished optimizing iteration at nu : 0.010000000000000002 with t -0.9439482969657267\n",
      "Finished optimizing iteration at nu : 0.0010000000000000002 with t -0.9920922447141156\n",
      "Finished optimizing iteration at nu : 0.00010000000000000003 with t -0.9989789659628019\n",
      "Finished optimizing iteration at nu : 1.0000000000000004e-5 with t -0.9998748707422735\n"
     ]
    }
   ],
   "source": [
    "func(x, t, nu) = -t - nu*log(x - t)\n",
    "grad(x, t, nu) = -1 + nu/(x - t)\n",
    "\n",
    "curr_t = -100\n",
    "step_size = 1\n",
    "\n",
    "x_set = 1\n",
    "nu = 1\n",
    "epsilon = 1e-6\n",
    "prev_val = Inf\n",
    "\n",
    "for i=1:100\n",
    "    curr_grad = grad(x_set, curr_t, nu)\n",
    "    tent_t = curr_t - step_size*curr_grad\n",
    "    \n",
    "    if tent_t > x_set\n",
    "        step_size *= .5\n",
    "        continue\n",
    "    end\n",
    "    \n",
    "    tent_val = func(x_set, tent_t, nu)\n",
    "    \n",
    "    if tent_val > prev_val\n",
    "        step_size *= .5\n",
    "        continue\n",
    "    end\n",
    "    \n",
    "    prev_val = tent_val\n",
    "    \n",
    "    if abs(curr_grad)^2 < epsilon\n",
    "        println(\"Finished optimizing iteration at nu : $nu with t $tent_val\")\n",
    "        if nu < 1e-4\n",
    "            break\n",
    "        end\n",
    "        prev_val = Inf\n",
    "        nu *= .1\n",
    "    end\n",
    "    \n",
    "    curr_t = tent_t\n",
    "    \n",
    "    step_size *= 1.2\n",
    "end"
   ]
  },
  {
   "cell_type": "code",
   "execution_count": null,
   "metadata": {},
   "outputs": [],
   "source": []
  }
 ],
 "metadata": {
  "kernelspec": {
   "display_name": "Julia 0.6.1",
   "language": "julia",
   "name": "julia-0.6"
  },
  "language_info": {
   "file_extension": ".jl",
   "mimetype": "application/julia",
   "name": "julia",
   "version": "0.6.1"
  }
 },
 "nbformat": 4,
 "nbformat_minor": 2
}

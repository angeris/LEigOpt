{
 "cells": [
  {
   "cell_type": "markdown",
   "metadata": {},
   "source": [
    "# Generate random almost-block-diagonal matrix"
   ]
  },
  {
   "cell_type": "code",
   "execution_count": 100,
   "metadata": {},
   "outputs": [
    {
     "data": {
      "text/plain": [
       "58001×58001 SparseMatrixCSC{Float64,Int64} with 0 stored entries"
      ]
     },
     "execution_count": 100,
     "metadata": {},
     "output_type": "execute_result"
    }
   ],
   "source": [
    "b = 30\n",
    "num_blocks = 2000\n",
    "n = num_blocks*(b-1) + 1\n",
    "\n",
    "A = spzeros(n, n)"
   ]
  },
  {
   "cell_type": "code",
   "execution_count": 101,
   "metadata": {},
   "outputs": [
    {
     "data": {
      "text/plain": [
       "58001×58001 SparseMatrixCSC{Float64,Int64} with 1798001 stored entries:\n",
       "  [1    ,     1]  =  98.707\n",
       "  [2    ,     1]  =  0.174549\n",
       "  [3    ,     1]  =  -0.90159\n",
       "  [4    ,     1]  =  0.160651\n",
       "  [5    ,     1]  =  -0.629294\n",
       "  [6    ,     1]  =  0.769082\n",
       "  [7    ,     1]  =  -1.54108\n",
       "  [8    ,     1]  =  1.98895\n",
       "  [9    ,     1]  =  1.29986\n",
       "  [10   ,     1]  =  -0.365263\n",
       "  ⋮\n",
       "  [57991, 58001]  =  0.132171\n",
       "  [57992, 58001]  =  0.267576\n",
       "  [57993, 58001]  =  -0.328448\n",
       "  [57994, 58001]  =  -0.255474\n",
       "  [57995, 58001]  =  1.35888\n",
       "  [57996, 58001]  =  -0.322829\n",
       "  [57997, 58001]  =  -0.819825\n",
       "  [57998, 58001]  =  0.628118\n",
       "  [57999, 58001]  =  -0.40501\n",
       "  [58000, 58001]  =  -1.37318\n",
       "  [58001, 58001]  =  99.9087"
      ]
     },
     "execution_count": 101,
     "metadata": {},
     "output_type": "execute_result"
    }
   ],
   "source": [
    "for i = 1:num_blocks\n",
    "    top_left = (i-1)*(b-1) + 1\n",
    "    A[top_left:top_left+b-1, top_left:top_left+b-1] .= randn(b, b)\n",
    "end\n",
    "\n",
    "A .= (A + A')/2 + 100*speye(n,n)"
   ]
  },
  {
   "cell_type": "code",
   "execution_count": 102,
   "metadata": {},
   "outputs": [
    {
     "name": "stdout",
     "output_type": "stream",
     "text": [
      "  0.134198 seconds (46 allocations: 116.381 MiB, 2.60% gc time)\n"
     ]
    },
    {
     "data": {
      "text/plain": [
       "Base.SparseArrays.CHOLMOD.Factor{Float64}\n",
       "type:          LLt\n",
       "method: simplicial\n",
       "maxnnz:     928001\n",
       "nnz:        928001\n"
      ]
     },
     "execution_count": 102,
     "metadata": {},
     "output_type": "execute_result"
    }
   ],
   "source": [
    "@time F = cholfact(A)"
   ]
  },
  {
   "cell_type": "code",
   "execution_count": null,
   "metadata": {},
   "outputs": [],
   "source": []
  }
 ],
 "metadata": {
  "kernelspec": {
   "display_name": "Julia 0.6.1",
   "language": "julia",
   "name": "julia-0.6"
  },
  "language_info": {
   "file_extension": ".jl",
   "mimetype": "application/julia",
   "name": "julia",
   "version": "0.6.1"
  }
 },
 "nbformat": 4,
 "nbformat_minor": 2
}

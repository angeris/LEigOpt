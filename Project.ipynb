{
 "cells": [
  {
   "cell_type": "code",
   "execution_count": 236,
   "metadata": {},
   "outputs": [],
   "source": [
    "import cvxpy as cvx\n",
    "import numpy as np\n",
    "import matplotlib.pyplot as plt\n",
    "import scipy\n",
    "import itertools\n",
    "from scipy.sparse import bsr_matrix, csc_matrix, diags, eye"
   ]
  },
  {
   "cell_type": "markdown",
   "metadata": {},
   "source": [
    "# Eigenvalue Benchmark Problem"
   ]
  },
  {
   "cell_type": "code",
   "execution_count": 91,
   "metadata": {},
   "outputs": [],
   "source": [
    "W, V = np.linalg.eigh(A)"
   ]
  },
  {
   "cell_type": "code",
   "execution_count": 92,
   "metadata": {},
   "outputs": [
    {
     "data": {
      "text/plain": [
       "<matplotlib.legend.Legend at 0x181acee198>"
      ]
     },
     "execution_count": 92,
     "metadata": {},
     "output_type": "execute_result"
    },
    {
     "data": {
      "image/png": "[encoded data removed]",
      "text/plain": [
       "<Figure size 432x288 with 1 Axes>"
      ]
     },
     "metadata": {},
     "output_type": "display_data"
    }
   ],
   "source": [
    "plt.plot(np.linspace(0, np.pi, n), V[:, 0], label='Eig')\n",
    "l = np.sin(np.linspace(0, np.pi, n))\n",
    "plt.plot(np.linspace(0, np.pi, n),  l / np.sqrt(np.sum(l**2)), label='Sin')\n",
    "plt.legend()"
   ]
  },
  {
   "cell_type": "markdown",
   "metadata": {},
   "source": [
    "# CVXPY"
   ]
  },
  {
   "cell_type": "code",
   "execution_count": 96,
   "metadata": {},
   "outputs": [],
   "source": [
    "t = cvx.Variable()"
   ]
  },
  {
   "cell_type": "code",
   "execution_count": 99,
   "metadata": {},
   "outputs": [],
   "source": [
    "objective = cvx.Minimize(-t)\n",
    "constraints = [A - t * np.eye(n) >> 0]\n",
    "problem = cvx.Problem(objective, constraints)\n",
    "optimal_value = problem.solve()"
   ]
  },
  {
   "cell_type": "code",
   "execution_count": 100,
   "metadata": {},
   "outputs": [
    {
     "data": {
      "text/plain": [
       "-0.0010011194220271543"
      ]
     },
     "execution_count": 100,
     "metadata": {},
     "output_type": "execute_result"
    }
   ],
   "source": [
    "optimal_value"
   ]
  },
  {
   "cell_type": "code",
   "execution_count": 101,
   "metadata": {},
   "outputs": [
    {
     "data": {
      "text/plain": [
       "0.0014676378983795586"
      ]
     },
     "execution_count": 101,
     "metadata": {},
     "output_type": "execute_result"
    }
   ],
   "source": [
    "W[0]"
   ]
  },
  {
   "cell_type": "markdown",
   "metadata": {},
   "source": [
    "# Vectorized Implementation"
   ]
  },
  {
   "cell_type": "code",
   "execution_count": 227,
   "metadata": {},
   "outputs": [],
   "source": [
    "num_blocks = 2\n",
    "b = 2\n",
    "n = b + (num_blocks - 1) * (b - 1)"
   ]
  },
  {
   "cell_type": "code",
   "execution_count": 228,
   "metadata": {},
   "outputs": [],
   "source": [
    "V = np.zeros(shape=((n ** 2), b ** 2 * num_blocks))"
   ]
  },
  {
   "cell_type": "code",
   "execution_count": 229,
   "metadata": {},
   "outputs": [
    {
     "data": {
      "text/plain": [
       "(9, 8)"
      ]
     },
     "execution_count": 229,
     "metadata": {},
     "output_type": "execute_result"
    }
   ],
   "source": [
    "V.shape"
   ]
  },
  {
   "cell_type": "code",
   "execution_count": 230,
   "metadata": {},
   "outputs": [
    {
     "name": "stdout",
     "output_type": "stream",
     "text": [
      "Inserting 1 at (0, 0)\n",
      "Inserting 1 at (1, 1)\n",
      "Inserting 1 at (3, 2)\n",
      "Inserting 1 at (4, 3)\n",
      "Inserting 1 at (4, 4)\n",
      "Inserting 1 at (5, 5)\n",
      "Inserting 1 at (7, 6)\n",
      "Inserting 1 at (8, 7)\n"
     ]
    }
   ],
   "source": [
    "for i in range(num_blocks):\n",
    "    for l in range(b ** 2):\n",
    "        j = l // b\n",
    "        k = l % b\n",
    "        row_index = (i * (b - 1) + j) * n + (i) * (b - 1) + k\n",
    "        column_index = l + i  * b ** 2\n",
    "        print('Inserting 1 at ({0}, {1})'.format(row_index, column_index))\n",
    "        V[row_index, column_index] = 1"
   ]
  },
  {
   "cell_type": "code",
   "execution_count": null,
   "metadata": {},
   "outputs": [],
   "source": [
    "def form_vectorized_matrix(A_matrices):\n",
    "    V_Z = form_vectorized_Z()\n",
    "    V_A = form_vectorized_A(A_matrices)\n",
    "    # Concat V_A to V_Z"
   ]
  },
  {
   "cell_type": "code",
   "execution_count": 174,
   "metadata": {},
   "outputs": [],
   "source": [
    "def form_vectorized_Z():\n",
    "    for i in range(num_blocks):\n",
    "        for l in range(b ** 2):\n",
    "            j = l // b\n",
    "            k = l % b\n",
    "            row_index = (i * (b - 1) + j) * n + (i) * (b - 1) + k\n",
    "            column_index = l + i  * b ** 2\n",
    "            print('Inserting 1 at ({0}, {1})'.format(row_index, column_index))\n",
    "            V[row_index, column_index] = 1\n",
    "    return V"
   ]
  },
  {
   "cell_type": "code",
   "execution_count": 171,
   "metadata": {},
   "outputs": [],
   "source": [
    "def form_vectorized_A(A_matrices):\n",
    "    # Parameter: A_matrices is a list of A_1, A_2, ..., A_k.\n",
    "    #   A_matrices does NOT include A_0\n",
    "    V = np.zeros(shape=(n ** 2, len(A_matrices)))\n",
    "    for index in range(len(A_matrices)):\n",
    "        V[:, index] = A_matrices[index].flatten()\n",
    "    return V"
   ]
  },
  {
   "cell_type": "code",
   "execution_count": 186,
   "metadata": {},
   "outputs": [],
   "source": []
  },
  {
   "cell_type": "code",
   "execution_count": 191,
   "metadata": {},
   "outputs": [],
   "source": [
    "def form_laplacian():\n",
    "    A_0_sparse = diags(diagonals=[-1.0, 2.0, -1.0], offsets = [-1, 0, 1], shape=(n, n))\n",
    "    return A_0_sparse.tocsc()"
   ]
  },
  {
   "cell_type": "code",
   "execution_count": 202,
   "metadata": {},
   "outputs": [],
   "source": [
    "def form_vectorized_laplacian():\n",
    "    A_0_sparse = form_laplacian()\n",
    "    nz = A_0_sparse.nonzero()\n",
    "    return A_0_sparse[nz].flatten(), nz"
   ]
  },
  {
   "cell_type": "code",
   "execution_count": 203,
   "metadata": {},
   "outputs": [],
   "source": [
    "def generate_sparse_lambda(A_0):\n",
    "    # Parameter: A_0 is a sparse matrix\n",
    "    nz_rows, nz_cols = A_0.nonzero()\n",
    "    A_0[A_0]\n",
    "    Lambda = np.zeros(len(nz_rows))"
   ]
  },
  {
   "cell_type": "code",
   "execution_count": 231,
   "metadata": {},
   "outputs": [],
   "source": [
    "A_0, nz = form_vectorized_laplacian()"
   ]
  },
  {
   "cell_type": "code",
   "execution_count": 235,
   "metadata": {},
   "outputs": [
    {
     "data": {
      "text/plain": [
       "matrix([[ 2., -1.,  0.],\n",
       "        [-1.,  2., -1.],\n",
       "        [ 0., -1.,  2.]])"
      ]
     },
     "execution_count": 235,
     "metadata": {},
     "output_type": "execute_result"
    }
   ],
   "source": [
    "form_laplacian().todense()"
   ]
  },
  {
   "cell_type": "code",
   "execution_count": 172,
   "metadata": {},
   "outputs": [],
   "source": [
    "A_matrices = [np.eye(n)]"
   ]
  },
  {
   "cell_type": "code",
   "execution_count": 173,
   "metadata": {},
   "outputs": [
    {
     "data": {
      "text/plain": [
       "array([[1.],\n",
       "       [0.],\n",
       "       [0.],\n",
       "       [0.],\n",
       "       [1.],\n",
       "       [0.],\n",
       "       [0.],\n",
       "       [0.],\n",
       "       [1.]])"
      ]
     },
     "execution_count": 173,
     "metadata": {},
     "output_type": "execute_result"
    }
   ],
   "source": [
    "form_vectorized_A(A_matrices)"
   ]
  },
  {
   "cell_type": "markdown",
   "metadata": {},
   "source": [
    "# Test Implementation"
   ]
  },
  {
   "cell_type": "code",
   "execution_count": 177,
   "metadata": {},
   "outputs": [],
   "source": [
    "num_A = 1\n",
    "num_blocks = 40\n",
    "b = 3\n",
    "n = 3 + (num_blocks - 1) * 2"
   ]
  },
  {
   "cell_type": "code",
   "execution_count": 214,
   "metadata": {},
   "outputs": [],
   "source": [
    "# Constants for eigenvalue problem\n",
    "c = np.array([-1.0])\n",
    "# Primal Variables\n",
    "x = np.zeros(num_A)\n",
    "lambda_dual_var = csc_matrix((n, n))"
   ]
  },
  {
   "cell_type": "code",
   "execution_count": 216,
   "metadata": {},
   "outputs": [],
   "source": [
    "def run_alternating_projections():\n",
    "    pass"
   ]
  },
  {
   "cell_type": "code",
   "execution_count": 246,
   "metadata": {},
   "outputs": [],
   "source": [
    "def projection_strong_duality(A_0_sparse, A_0_nz, \n",
    "                              A_sparse_list, A_nz_list, \n",
    "                              c, \n",
    "                              x_primal_var, z_primal_var_list, \n",
    "                              lambda_dual_var,\n",
    "                              sigma_dual_var_list):\n",
    "    # Precompute\n",
    "    A_0_sparse_vectorized = A_0_sparse[A_0_nz]\n",
    "    A_i_sparse_vectorized_list = [A_sparse_list[i][A_nz_list[i]] for i in range(len(A_sparse_list))]\n",
    "    \n",
    "    # Project y = (x, lambda) onto c'x + d'eta - tr(Lambda * A_0) = 0\n",
    "    # Equivalently, projecting y onto Cy = d, where C = [c', -vec(A_0.nz)], d = 0\n",
    "    C = np.hstack(c, A_0_sparse_vectorized)\n",
    "    d = np.zeros(C.shape[0])\n",
    "    y = np.vstack(x_primal_var, lambda_dual_var[A_0_nz])\n",
    "    pinv_C = np.pinv(C)\n",
    "    y_prime = pinv_C.dot(d) + (scipy.sparse.eye(pinv_C.shape[0]) - pinv_C.dot(C)).dot(y)\n",
    "    x_primal_var = y_prime[0:len(x_primal_var)]\n",
    "    lambda_dual_var[A_0_nz] = y_prime[len(x_primal_var):]"
   ]
  },
  {
   "cell_type": "code",
   "execution_count": 247,
   "metadata": {},
   "outputs": [],
   "source": [
    "def projection_dual_feasibility_equality_1(A_0_sparse, A_0_nz, \n",
    "                                          A_sparse_list, A_nz_list, \n",
    "                                          c, \n",
    "                                          x_primal_var, z_primal_var_list, \n",
    "                                          lambda_dual_var,\n",
    "                                          sigma_dual_var_list):\n",
    "    # For each i, project c, lambda such that c[i] + tr(Lambda * A_i) = 0\n",
    "    # Equivalently, project onto Cy = d, where C = [vec(A_i.nz)'] and y = Lambda[A_i.nz], d = -c[i]\n",
    "    for i in range(len(A_i_sparse_list)):\n",
    "        C = A_i_sparse_vectorized_list[i]\n",
    "        d = np.array([-c[i]])\n",
    "        y = lambda_dual_var[A_nz_list[i]]\n",
    "        pinv_C = np.pinv(C)\n",
    "        y_prime = pinv_C.dot(d) + (scipy.sparse.eye(pinv_C.shape[0]) - pinv_C.dot(C)).dot(y)\n",
    "        lambda_dual_var[A_nz_list[i]] = y_prime"
   ]
  },
  {
   "cell_type": "code",
   "execution_count": 248,
   "metadata": {},
   "outputs": [],
   "source": [
    "def projection_dual_feasibility_equality_2(A_0_sparse, A_0_nz, \n",
    "                                          A_sparse_list, A_nz_list, \n",
    "                                          c, \n",
    "                                          x_primal_var, z_primal_var_list, \n",
    "                                          lambda_dual_var,\n",
    "                                          sigma_dual_var_list):\n",
    "    # Project onto Sigma_i = -E_i' Lambda E_i\n",
    "    # generate indices of the nonzero entires for block sparsity pattern\n",
    "    for i in range(num_blocks):\n",
    "        C = np.hstack(np.eye(b**2), -np.eye(b**2))\n",
    "        d = np.zeros(b**2)\n",
    "        diag_idx = (b-1)*i\n",
    "        y = np.hstack(sigma_dual_var_list[i].flatten(),\n",
    "                      lambda_dual_var[diag_idx:diag_idx+b, diag_idx:diag_idx+b].flatten())\n",
    "        pinv_C = np.pinv(C)\n",
    "        y_prime = pinv_C.dot(d) + (scipy.sparse.eye(pinv_C.shape[0]) - pinv_C.dot(C)).dot(y)\n",
    "        sigma_dual_var_list[i] = y_prime[:b**2]\n",
    "        lambda_dual_var[diag_idx:diag_idx+b, diag_idx:diag_idx+b] = y_prime[b**2:].reshape(b,b)"
   ]
  },
  {
   "cell_type": "code",
   "execution_count": 249,
   "metadata": {},
   "outputs": [],
   "source": [
    "def projection_primal_feasibility_equality(A_0_sparse, A_0_nz, \n",
    "                                          A_sparse_list, A_nz_list, \n",
    "                                          c, \n",
    "                                          x_primal_var, z_primal_var_list, \n",
    "                                          lambda_dual_var,\n",
    "                                          sigma_dual_var_list):\n",
    "    # Project onto L(x) = \\sum E_i Z_i E_i'\n",
    "    # generate indices of the nonzero entires for block sparsity pattern\n",
    "    matrix_to_vector= {} # Map (i, j) to k\n",
    "    vector_to_matrix_set = set() \n",
    "    for block_index in range(num_blocks):\n",
    "        top_left = ((b - 1) * block_index, (b - 1) * block_index)\n",
    "        for (di, dj) in itertools.product(range(b), range(b)):\n",
    "            vector_to_matrix.add((top_left[0] + di, top_left[1] + dj))\n",
    "    vector_to_matrix = list(vector_to_matrix_set)\n",
    "    sparsity_pattern_rows = np.array([op[0] for op in vector_to_matrix])\n",
    "    sparsity_pattern_cols = np.array([op[1] for op in vector_to_matrix])\n",
    "    matrix_to_vector = {p:i for i, p in enumerate(vector_to_matrix)}\n",
    "    \n",
    "    cols_z = scipy.sparse.csr_matrix((len(vector_to_matrix), b**2 * num_blocks))\n",
    "    rows_to_Z_idx = []\n",
    "    # First map the Z_i matrices\n",
    "    for curr_block_idx in range(num_blocks):\n",
    "        for i, j in itertools.product(range(b), range(b)):\n",
    "            ni, nj = curr_block_idx*(b-1) + i, curr_block_idx*(b-1) + j\n",
    "            # Generate the basis vectors\n",
    "            cols_z[matrix_to_vector[(ni, nj)], curr_block_idx*(b**2) + i*b + j] = 1\n",
    "            \n",
    "    cols_A = scipy.sparse.csr_matrix((len(vector_to_matrix), len(A_sparse_list)))\n",
    "    for i in range(len(A_sparse_list)):\n",
    "        cols_A[:, i] = A_sparse_list[i][sparsity_pattern_rows, sparsity_pattern_cols]\n",
    "        \n",
    "    z_vector = np.array(b**2 * num_blocks)\n",
    "    for block_idx in range(num_blocks):\n",
    "        for i, j in itertools.product(range(b), range(b)):\n",
    "            z_vector[block_idx * (b ** 2) + (i * b) + j ] = z_primal_var_list[block_idx][i, j]\n",
    "    y = np.vstack(z_vector, x_primal_var)\n",
    "    d = A_0_sparse[sparsity_pattern_rows, sparsity_pattern_cols].todense()\n",
    "    C = scipy.sparse.hstack(-cols_z, cols_A).todense()\n",
    "    pinv_C = np.pinv(C)\n",
    "    y_prime = pinv_C.dot(d) + (scipy.sparse.eye(pinv_C.shape[0]) - pinv_C.dot(C)).dot(y)\n",
    "    \n",
    "    for block_idx in range(num_blocks):\n",
    "        for i, j in itertools.product(range(b), range(b)):\n",
    "            z_primal_var_list[block_idx][i, j] = y_prime[block_idx * (b ** 2) + (i * b) + j ]\n",
    "            \n",
    "    x_primal_var = y_prime[-len(x_primal_var):]"
   ]
  },
  {
   "cell_type": "code",
   "execution_count": 245,
   "metadata": {},
   "outputs": [],
   "source": [
    "def alternating_projections_iteration(A_0_sparse, A_0_nz, \n",
    "                                      A_sparse_list, A_nz_list, \n",
    "                                      c, \n",
    "                                      x_primal_var, z_primal_var_list, \n",
    "                                      lambda_dual_var,\n",
    "                                      sigma_dual_var_list):\n",
    "    \n",
    "    projection_strong_duality(A_0_sparse, A_0_nz, \n",
    "                              A_sparse_list, A_nz_list, \n",
    "                              c, \n",
    "                              x_primal_var, z_primal_var_list, \n",
    "                              lambda_dual_var,\n",
    "                              sigma_dual_var_list)\n",
    "\n",
    "    projection_dual_feasibility_equality_1(A_0_sparse, A_0_nz, \n",
    "                                              A_sparse_list, A_nz_list, \n",
    "                                              c, \n",
    "                                              x_primal_var, z_primal_var_list, \n",
    "                                              lambda_dual_var,\n",
    "                                              sigma_dual_var_list):\n",
    "        \n",
    "    projection_dual_feasibility_equality_2(A_0_sparse, A_0_nz, \n",
    "                                          A_sparse_list, A_nz_list, \n",
    "                                          c, \n",
    "                                          x_primal_var, z_primal_var_list, \n",
    "                                          lambda_dual_var,\n",
    "                                          sigma_dual_var_list):\n",
    "    \n",
    "    \n",
    "    projection_primal_feasibility_equality(A_0_sparse, A_0_nz, \n",
    "                                          A_sparse_list, A_nz_list, \n",
    "                                          c, \n",
    "                                          x_primal_var, z_primal_var_list, \n",
    "                                          lambda_dual_var,\n",
    "                                          sigma_dual_var_list):\n",
    "            \n",
    "            \n",
    "            \n",
    "    "
   ]
  },
  {
   "cell_type": "code",
   "execution_count": 237,
   "metadata": {},
   "outputs": [],
   "source": [
    "l = [1, 2, 3, 4, 5]"
   ]
  },
  {
   "cell_type": "code",
   "execution_count": 238,
   "metadata": {},
   "outputs": [
    {
     "data": {
      "text/plain": [
       "[4, 5]"
      ]
     },
     "execution_count": 238,
     "metadata": {},
     "output_type": "execute_result"
    }
   ],
   "source": [
    "l[-2:]"
   ]
  },
  {
   "cell_type": "code",
   "execution_count": null,
   "metadata": {},
   "outputs": [],
   "source": []
  }
 ],
 "metadata": {
  "kernelspec": {
   "display_name": "Python 3",
   "language": "python",
   "name": "python3"
  },
  "language_info": {
   "codemirror_mode": {
    "name": "ipython",
    "version": 3
   },
   "file_extension": ".py",
   "mimetype": "text/x-python",
   "name": "python",
   "nbconvert_exporter": "python",
   "pygments_lexer": "ipython3",
   "version": "3.5.4"
  }
 },
 "nbformat": 4,
 "nbformat_minor": 2
}
